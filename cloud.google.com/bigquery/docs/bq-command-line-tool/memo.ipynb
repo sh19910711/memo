{
 "cells": [
  {
   "cell_type": "code",
   "execution_count": 28,
   "metadata": {},
   "outputs": [
    {
     "name": "stdout",
     "output_type": "stream",
     "text": [
      "Sat Jan  6 01:07:19 UTC 2024\n"
     ]
    }
   ],
   "source": [
    "! date"
   ]
  },
  {
   "cell_type": "code",
   "execution_count": 1,
   "metadata": {},
   "outputs": [
    {
     "name": "stdout",
     "output_type": "stream",
     "text": [
      "This is BigQuery CLI 2.0.100\n"
     ]
    }
   ],
   "source": [
    "! bq version"
   ]
  },
  {
   "cell_type": "code",
   "execution_count": 7,
   "metadata": {},
   "outputs": [
    {
     "name": "stdout",
     "output_type": "stream",
     "text": [
      "+--------+\n",
      "| answer |\n",
      "+--------+\n",
      "|     42 |\n",
      "+--------+\n"
     ]
    }
   ],
   "source": [
    "! source ~/tmp/env && \\\n",
    "    bq query --project_id=$GOOGLE_CLOUD_PROJECT \\\n",
    "        --use_legacy_sql=false 'select 42 as answer'"
   ]
  },
  {
   "cell_type": "code",
   "execution_count": 14,
   "metadata": {},
   "outputs": [
    {
     "name": "stdout",
     "output_type": "stream",
     "text": [
      "[{\"answer\":\"42\"}]\n"
     ]
    }
   ],
   "source": [
    "! source ~/tmp/env && \\\n",
    "    bq --format=json \\\n",
    "        query --project_id=$GOOGLE_CLOUD_PROJECT \\\n",
    "        --use_legacy_sql=false 'select 42 as answer'"
   ]
  },
  {
   "cell_type": "code",
   "execution_count": 15,
   "metadata": {},
   "outputs": [
    {
     "name": "stdout",
     "output_type": "stream",
     "text": [
      "[\n",
      "  {\n",
      "    \"answer\": \"42\"\n",
      "  }\n",
      "]\n"
     ]
    }
   ],
   "source": [
    "! source ~/tmp/env && \\\n",
    "    bq --format=prettyjson \\\n",
    "        query --project_id=$GOOGLE_CLOUD_PROJECT \\\n",
    "        --use_legacy_sql=false 'select 42 as answer'"
   ]
  },
  {
   "cell_type": "code",
   "execution_count": 19,
   "metadata": {},
   "outputs": [
    {
     "name": "stdout",
     "output_type": "stream",
     "text": [
      "  --format: <none|json|prettyjson|csv|sparse|pretty>: Format for command output.\n",
      "    prettyjson: easy-to-read JSON format\n"
     ]
    }
   ],
   "source": [
    "! bq query --help | grep prettyjson"
   ]
  },
  {
   "cell_type": "code",
   "execution_count": 27,
   "metadata": {},
   "outputs": [
    {
     "name": "stdout",
     "output_type": "stream",
     "text": [
      "c1,c2\n",
      "hello,\"wo,rld\"\n"
     ]
    }
   ],
   "source": [
    "! source ~/tmp/env && \\\n",
    "    bq --format=csv \\\n",
    "        query --project_id=$GOOGLE_CLOUD_PROJECT \\\n",
    "        --use_legacy_sql=false 'select \"hello\" as c1, \"wo,rld\" as c2'"
   ]
  },
  {
   "cell_type": "code",
   "execution_count": null,
   "metadata": {},
   "outputs": [],
   "source": []
  }
 ],
 "metadata": {
  "kernelspec": {
   "display_name": "Python 3",
   "language": "python",
   "name": "python3"
  },
  "language_info": {
   "codemirror_mode": {
    "name": "ipython",
    "version": 3
   },
   "file_extension": ".py",
   "mimetype": "text/x-python",
   "name": "python",
   "nbconvert_exporter": "python",
   "pygments_lexer": "ipython3",
   "version": "3.9.2"
  }
 },
 "nbformat": 4,
 "nbformat_minor": 2
}
