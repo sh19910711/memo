{
 "cells": [
  {
   "cell_type": "code",
   "execution_count": 7,
   "metadata": {},
   "outputs": [],
   "source": [
    "! cp ../../template.cpp c.cpp && touch c.txt"
   ]
  },
  {
   "cell_type": "markdown",
   "metadata": {},
   "source": [
    "### C\n",
    "\n",
    "- n個の数列A\n",
    "- n<2000\n",
    "- 最大値\n",
    "\n",
    "```\n",
    "a=[1,2,3], b=[1,3,2,3,1,3,2,3,…]\n",
    "1: s=3; a=[0,0,0]\n",
    "3: a=[1,1,1]\n",
    "2: a=[2,2,1]\n",
    "3: s=1; a=[0,0,0]\n",
    "res=4\n",
    "```\n",
    "\n",
    "- i番目の要素を増やせるのはi <= b[i]のとき\n",
    "- 番号が大きいほど増やしにくい\n",
    "- resetするまでシミュレーション\n",
    "- [0,0,...]以降\n",
    "    - 最適な数列が増加列であるのに対して操作後に得られるのは減少列\n",
    "    - 毎回resetを繰り返すような形が最適\n"
   ]
  }
 ],
 "metadata": {
  "kernelspec": {
   "display_name": "Python 3",
   "language": "python",
   "name": "python3"
  },
  "language_info": {
   "codemirror_mode": {
    "name": "ipython",
    "version": 3
   },
   "file_extension": ".py",
   "mimetype": "text/x-python",
   "name": "python",
   "nbconvert_exporter": "python",
   "pygments_lexer": "ipython3",
   "version": "3.10.12"
  }
 },
 "nbformat": 4,
 "nbformat_minor": 2
}
